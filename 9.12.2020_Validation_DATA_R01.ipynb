{
 "cells": [
  {
   "cell_type": "markdown",
   "metadata": {},
   "source": [
    "\n",
    "History:\n",
    "9.13.LAST checkpoint\n",
    "\n"
   ]
  },
  {
   "cell_type": "code",
   "execution_count": 1,
   "metadata": {},
   "outputs": [],
   "source": [
    "import numpy as np \n"
   ]
  },
  {
   "cell_type": "code",
   "execution_count": 2,
   "metadata": {},
   "outputs": [],
   "source": [
    "import pandas as pd"
   ]
  },
  {
   "cell_type": "code",
   "execution_count": 82,
   "metadata": {},
   "outputs": [
    {
     "name": "stdout",
     "output_type": "stream",
     "text": [
      "9.13.20 \n"
     ]
    }
   ],
   "source": [
    "print('9.13.20 ') #last update"
   ]
  },
  {
   "cell_type": "code",
   "execution_count": 4,
   "metadata": {},
   "outputs": [
    {
     "data": {
      "text/html": [
       "<div>\n",
       "<style scoped>\n",
       "    .dataframe tbody tr th:only-of-type {\n",
       "        vertical-align: middle;\n",
       "    }\n",
       "\n",
       "    .dataframe tbody tr th {\n",
       "        vertical-align: top;\n",
       "    }\n",
       "\n",
       "    .dataframe thead th {\n",
       "        text-align: right;\n",
       "    }\n",
       "</style>\n",
       "<table border=\"1\" class=\"dataframe\">\n",
       "  <thead>\n",
       "    <tr style=\"text-align: right;\">\n",
       "      <th></th>\n",
       "      <th>Username</th>\n",
       "      <th>Mobility</th>\n",
       "      <th>ArmSwelling</th>\n",
       "      <th>BreastSwelling</th>\n",
       "      <th>Skin</th>\n",
       "      <th>PAS</th>\n",
       "      <th>FHT</th>\n",
       "      <th>DISCOMFORT</th>\n",
       "      <th>SYM_COUNT</th>\n",
       "      <th>TIME_LAPSE</th>\n",
       "      <th>...</th>\n",
       "      <th>chemo_numbered</th>\n",
       "      <th>Radiation</th>\n",
       "      <th>Age</th>\n",
       "      <th>SLNB_Removed_LN</th>\n",
       "      <th>ALND_Removed_LN</th>\n",
       "      <th>SLNB_ALND_Removed</th>\n",
       "      <th>Mastectomy</th>\n",
       "      <th>Lumpectomy</th>\n",
       "      <th>Hormonal</th>\n",
       "      <th>BMI</th>\n",
       "    </tr>\n",
       "  </thead>\n",
       "  <tbody>\n",
       "    <tr>\n",
       "      <th>0</th>\n",
       "      <td>ML380</td>\n",
       "      <td>2</td>\n",
       "      <td>0</td>\n",
       "      <td>2</td>\n",
       "      <td>0</td>\n",
       "      <td>1</td>\n",
       "      <td>0</td>\n",
       "      <td>1</td>\n",
       "      <td>5</td>\n",
       "      <td>0.8</td>\n",
       "      <td>...</td>\n",
       "      <td>1</td>\n",
       "      <td>1</td>\n",
       "      <td>70.0</td>\n",
       "      <td>1</td>\n",
       "      <td>0</td>\n",
       "      <td>0</td>\n",
       "      <td>0</td>\n",
       "      <td>1</td>\n",
       "      <td>1.0</td>\n",
       "      <td>39.8</td>\n",
       "    </tr>\n",
       "    <tr>\n",
       "      <th>1</th>\n",
       "      <td>ML381</td>\n",
       "      <td>1</td>\n",
       "      <td>0</td>\n",
       "      <td>0</td>\n",
       "      <td>1</td>\n",
       "      <td>0</td>\n",
       "      <td>0</td>\n",
       "      <td>1</td>\n",
       "      <td>4</td>\n",
       "      <td>2.2</td>\n",
       "      <td>...</td>\n",
       "      <td>1</td>\n",
       "      <td>1</td>\n",
       "      <td>54.0</td>\n",
       "      <td>2</td>\n",
       "      <td>0</td>\n",
       "      <td>0</td>\n",
       "      <td>0</td>\n",
       "      <td>1</td>\n",
       "      <td>1.0</td>\n",
       "      <td>25.2</td>\n",
       "    </tr>\n",
       "    <tr>\n",
       "      <th>2</th>\n",
       "      <td>ML382</td>\n",
       "      <td>0</td>\n",
       "      <td>0</td>\n",
       "      <td>0</td>\n",
       "      <td>0</td>\n",
       "      <td>0</td>\n",
       "      <td>0</td>\n",
       "      <td>0</td>\n",
       "      <td>0</td>\n",
       "      <td>6.3</td>\n",
       "      <td>...</td>\n",
       "      <td>1</td>\n",
       "      <td>1</td>\n",
       "      <td>70.0</td>\n",
       "      <td>0</td>\n",
       "      <td>0</td>\n",
       "      <td>7</td>\n",
       "      <td>0</td>\n",
       "      <td>1</td>\n",
       "      <td>1.0</td>\n",
       "      <td>33.8</td>\n",
       "    </tr>\n",
       "    <tr>\n",
       "      <th>3</th>\n",
       "      <td>ML383</td>\n",
       "      <td>0</td>\n",
       "      <td>0</td>\n",
       "      <td>0</td>\n",
       "      <td>0</td>\n",
       "      <td>1</td>\n",
       "      <td>3</td>\n",
       "      <td>3</td>\n",
       "      <td>10</td>\n",
       "      <td>4.3</td>\n",
       "      <td>...</td>\n",
       "      <td>1</td>\n",
       "      <td>1</td>\n",
       "      <td>40.0</td>\n",
       "      <td>0</td>\n",
       "      <td>0</td>\n",
       "      <td>15</td>\n",
       "      <td>0</td>\n",
       "      <td>1</td>\n",
       "      <td>0.0</td>\n",
       "      <td>21.1</td>\n",
       "    </tr>\n",
       "    <tr>\n",
       "      <th>4</th>\n",
       "      <td>ML384</td>\n",
       "      <td>0</td>\n",
       "      <td>0</td>\n",
       "      <td>0</td>\n",
       "      <td>0</td>\n",
       "      <td>0</td>\n",
       "      <td>0</td>\n",
       "      <td>0</td>\n",
       "      <td>0</td>\n",
       "      <td>3.1</td>\n",
       "      <td>...</td>\n",
       "      <td>0</td>\n",
       "      <td>1</td>\n",
       "      <td>76.0</td>\n",
       "      <td>1</td>\n",
       "      <td>0</td>\n",
       "      <td>0</td>\n",
       "      <td>0</td>\n",
       "      <td>1</td>\n",
       "      <td>1.0</td>\n",
       "      <td>27.2</td>\n",
       "    </tr>\n",
       "  </tbody>\n",
       "</table>\n",
       "<p>5 rows × 23 columns</p>\n",
       "</div>"
      ],
      "text/plain": [
       "  Username  Mobility ArmSwelling BreastSwelling Skin PAS FHT  DISCOMFORT  \\\n",
       "0    ML380         2           0              2    0   1   0           1   \n",
       "1    ML381         1           0              0    1   0   0           1   \n",
       "2    ML382         0           0              0    0   0   0           0   \n",
       "3    ML383         0           0              0    0   1   3           3   \n",
       "4    ML384         0           0              0    0   0   0           0   \n",
       "\n",
       "   SYM_COUNT TIME_LAPSE  ...  chemo_numbered Radiation   Age  SLNB_Removed_LN  \\\n",
       "0          5        0.8  ...               1         1  70.0                1   \n",
       "1          4        2.2  ...               1         1  54.0                2   \n",
       "2          0        6.3  ...               1         1  70.0                0   \n",
       "3         10        4.3  ...               1         1  40.0                0   \n",
       "4          0        3.1  ...               0         1  76.0                1   \n",
       "\n",
       "   ALND_Removed_LN  SLNB_ALND_Removed  Mastectomy  Lumpectomy  Hormonal   BMI  \n",
       "0                0                  0           0           1       1.0  39.8  \n",
       "1                0                  0           0           1       1.0  25.2  \n",
       "2                0                  7           0           1       1.0  33.8  \n",
       "3                0                 15           0           1       0.0  21.1  \n",
       "4                0                  0           0           1       1.0  27.2  \n",
       "\n",
       "[5 rows x 23 columns]"
      ]
     },
     "execution_count": 4,
     "metadata": {},
     "output_type": "execute_result"
    }
   ],
   "source": [
    "df = pd.read_csv('feature_selection_test.csv')\n",
    "df.head(5) \n"
   ]
  },
  {
   "cell_type": "code",
   "execution_count": null,
   "metadata": {},
   "outputs": [],
   "source": []
  },
  {
   "cell_type": "markdown",
   "metadata": {},
   "source": [
    "PRE-PROCESS\n"
   ]
  },
  {
   "cell_type": "code",
   "execution_count": 86,
   "metadata": {},
   "outputs": [],
   "source": [
    "feature_names= ['Username','Mobility','ArmSwelling','BreastSwelling', 'Skin', 'PAS','FHT','DISCOMFORT','SYM_COUNT','TIME_LAPSE','LVC','ChestWallSwelling','fluid_total']\n",
    "data_df= df[feature_names] #data_df has all the data"
   ]
  },
  {
   "cell_type": "code",
   "execution_count": 87,
   "metadata": {},
   "outputs": [
    {
     "data": {
      "text/plain": [
       "(191, 13)"
      ]
     },
     "execution_count": 87,
     "metadata": {},
     "output_type": "execute_result"
    }
   ],
   "source": [
    "data_df.shape"
   ]
  },
  {
   "cell_type": "code",
   "execution_count": 88,
   "metadata": {},
   "outputs": [],
   "source": [
    "data_df = data_df[data_df.TIME_LAPSE != 'XXX'] #IGNORE THE ML509 patient"
   ]
  },
  {
   "cell_type": "code",
   "execution_count": 89,
   "metadata": {},
   "outputs": [],
   "source": [
    "data_df = data_df[data_df.Username != 'ML380'] #the data needs to be ML381 AND ONWARDS "
   ]
  },
  {
   "cell_type": "code",
   "execution_count": 90,
   "metadata": {},
   "outputs": [],
   "source": [
    "#pd.to_numeric(data_df['TIME_LAPSE'], downcast=\"float\")\n",
    "data_df['TIME_LAPSE'] =data_df['TIME_LAPSE'].astype('float')\n",
    "data_df['LVC'] =data_df['LVC'].astype('float')\n",
    "\n",
    "data_df['Mobility'] =data_df['Mobility'].astype('int')\n",
    "data_df['ArmSwelling'] =data_df['ArmSwelling'].astype('int')\n",
    "data_df['BreastSwelling'] =data_df['BreastSwelling'].astype('int')\n",
    "data_df['Skin'] =data_df['Skin'].astype('int')\n",
    "data_df['PAS'] =data_df['PAS'].astype('int')\n",
    "data_df['FHT'] =data_df['FHT'].astype('int')\n",
    "data_df['DISCOMFORT'] =data_df['DISCOMFORT'].astype('int')\n",
    "data_df['SYM_COUNT'] =data_df['SYM_COUNT'].astype('int')\n",
    "data_df['ChestWallSwelling'] =data_df['ChestWallSwelling'].astype('int')\n",
    "data_df['fluid_total'] =data_df['fluid_total'].astype('int')\n",
    "\n",
    "data_df['logged_TIME_LAPSE'] = np.log(data_df['TIME_LAPSE'])"
   ]
  },
  {
   "cell_type": "code",
   "execution_count": 91,
   "metadata": {},
   "outputs": [],
   "source": [
    "# drop rows containing nan\n",
    "data_df = data_df.dropna()\n"
   ]
  },
  {
   "cell_type": "code",
   "execution_count": null,
   "metadata": {},
   "outputs": [],
   "source": []
  },
  {
   "cell_type": "code",
   "execution_count": 92,
   "metadata": {},
   "outputs": [],
   "source": [
    "data_df= data_df[data_df.TIME_LAPSE >=0.5] #remove patients more than 6months time lapse"
   ]
  },
  {
   "cell_type": "markdown",
   "metadata": {},
   "source": [
    "Arry to be passed into X model"
   ]
  },
  {
   "cell_type": "code",
   "execution_count": 93,
   "metadata": {},
   "outputs": [],
   "source": [
    "X_model_df = data_df[['Mobility','ArmSwelling','BreastSwelling', 'Skin', 'PAS','FHT','DISCOMFORT','SYM_COUNT','logged_TIME_LAPSE']]"
   ]
  },
  {
   "cell_type": "code",
   "execution_count": 94,
   "metadata": {},
   "outputs": [
    {
     "data": {
      "text/plain": [
       "(175, 9)"
      ]
     },
     "execution_count": 94,
     "metadata": {},
     "output_type": "execute_result"
    }
   ],
   "source": [
    "X_model_df.shape"
   ]
  },
  {
   "cell_type": "code",
   "execution_count": 95,
   "metadata": {},
   "outputs": [
    {
     "data": {
      "text/plain": [
       "False"
      ]
     },
     "execution_count": 95,
     "metadata": {},
     "output_type": "execute_result"
    }
   ],
   "source": [
    "X_model_df.isnull().values.any()\n",
    "# drop rows containing nan\n"
   ]
  },
  {
   "cell_type": "code",
   "execution_count": 96,
   "metadata": {},
   "outputs": [
    {
     "data": {
      "text/plain": [
       "(175, 9)"
      ]
     },
     "execution_count": 96,
     "metadata": {},
     "output_type": "execute_result"
    }
   ],
   "source": [
    "'''convert X_model dataframe into array'''\n",
    "X_model_arr = np.array(X_model_df)\n",
    "X_model_arr.shape"
   ]
  },
  {
   "cell_type": "code",
   "execution_count": 97,
   "metadata": {},
   "outputs": [],
   "source": [
    "import pickle\n",
    "loaded_clf = pickle.load(open('GBC_classifier_4datasets.sav', 'rb'))\n",
    "yprob = loaded_clf.predict_proba(X_model_arr)\n",
    "ypred = np.array(yprob[:,0]/(0.1*yprob[:,1]+(1-0.1)*yprob[:,2])<12.3).astype(int)"
   ]
  },
  {
   "cell_type": "code",
   "execution_count": 98,
   "metadata": {},
   "outputs": [
    {
     "name": "stdout",
     "output_type": "stream",
     "text": [
      "ypred:  [0 0 1 0 0 0 1 0 1 0 0 0 0 0 0 0 0 1 1 0 0 0 0 0 0 0 0 0 0 0 0 0 1 1 1 0 0\n",
      " 0 1 0 0 1 0 0 0 1 1 0 0 0 0 0 0 1 0 0 0 0 0 0 0 0 0 0 0 1 1 0 0 0 0 1 1 0\n",
      " 0 1 0 0 0 0 0 0 0 0 0 0 0 0 0 0 0 0 0 0 1 1 0 0 0 0 1 0 0 1 0 1 0 0 0 1 1\n",
      " 0 1 0 1 0 0 1 0 1 1 0 1 0 1 0 0 1 0 0 0 1 0 0 0 0 0 1 0 0 1 0 1 0 0 0 0 0\n",
      " 0 1 1 0 1 0 1 0 1 1 0 0 0 1 0 1 0 1 1 0 0 0 0 0 1 0 1]\n"
     ]
    }
   ],
   "source": [
    "print('ypred: ', ypred)"
   ]
  },
  {
   "cell_type": "markdown",
   "metadata": {},
   "source": [
    "Expert tree- generate label"
   ]
  },
  {
   "cell_type": "code",
   "execution_count": 99,
   "metadata": {},
   "outputs": [],
   "source": [
    "\n",
    "from expert_tree import get_expert_tree_results, Expert_Tree"
   ]
  },
  {
   "cell_type": "code",
   "execution_count": 100,
   "metadata": {},
   "outputs": [],
   "source": [
    "# generate 5 labels \n",
    "for i, row in data_df.iterrows():\n",
    "    tag = Expert_Tree(row).run()"
   ]
  },
  {
   "cell_type": "code",
   "execution_count": 101,
   "metadata": {},
   "outputs": [],
   "source": [
    "# generate 2 labels\n",
    "labels_3, labelNames_3, flags_3 = get_expert_tree_results(data_df, three_class=False)"
   ]
  },
  {
   "cell_type": "code",
   "execution_count": null,
   "metadata": {},
   "outputs": [],
   "source": []
  },
  {
   "cell_type": "markdown",
   "metadata": {},
   "source": [
    "Evaluate"
   ]
  },
  {
   "cell_type": "code",
   "execution_count": 102,
   "metadata": {},
   "outputs": [
    {
     "name": "stdout",
     "output_type": "stream",
     "text": [
      "121 1 5 48\n",
      "0.9657142857142857 0.9056603773584906 0.9918032786885246\n"
     ]
    }
   ],
   "source": [
    "from sklearn.metrics import confusion_matrix\n",
    "#t = confusion_matrix(expert_tree_result, ypred).ravel()\n",
    "tn, fp, fn, tp = confusion_matrix(labels_3, ypred).ravel()\n",
    "print(tn, fp, fn, tp)\n",
    "validation_accuracy = (tn+tp)/(tn+tp+fn+fp)\n",
    "sensitivity = tp/(fn+tp)\n",
    "specificty= tn/(tn+fp)\n",
    "print(validation_accuracy, sensitivity,specificty )"
   ]
  },
  {
   "cell_type": "code",
   "execution_count": null,
   "metadata": {},
   "outputs": [],
   "source": []
  },
  {
   "cell_type": "code",
   "execution_count": null,
   "metadata": {},
   "outputs": [],
   "source": []
  },
  {
   "cell_type": "code",
   "execution_count": null,
   "metadata": {},
   "outputs": [],
   "source": []
  }
 ],
 "metadata": {
  "kernelspec": {
   "display_name": "Python 3",
   "language": "python",
   "name": "python3"
  },
  "language_info": {
   "codemirror_mode": {
    "name": "ipython",
    "version": 3
   },
   "file_extension": ".py",
   "mimetype": "text/x-python",
   "name": "python",
   "nbconvert_exporter": "python",
   "pygments_lexer": "ipython3",
   "version": "3.6.2"
  }
 },
 "nbformat": 4,
 "nbformat_minor": 1
}
