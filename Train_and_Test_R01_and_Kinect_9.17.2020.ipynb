{
 "cells": [
  {
   "cell_type": "markdown",
   "metadata": {},
   "source": [
    "**Train on whole dataset and test on test set**"
   ]
  },
  {
   "cell_type": "code",
   "execution_count": 30,
   "metadata": {},
   "outputs": [],
   "source": [
    "import os\n",
    "import pandas as pd \n",
    "import numpy as np\n",
    "\n",
    "from expert_tree import get_expert_tree_results, Expert_Tree\n",
    "from expert_tree_kinect import get_expert_tree_results as get_expert_tree_results2\n",
    "from expert_tree_kinect import Expert_Tree as Expert_Tree_2\n",
    "\n",
    "from wrapper import best_first_search_mg\n",
    "\n",
    "from sklearn.metrics import confusion_matrix"
   ]
  },
  {
   "cell_type": "markdown",
   "metadata": {},
   "source": [
    "Test define feature subset"
   ]
  },
  {
   "cell_type": "code",
   "execution_count": 31,
   "metadata": {},
   "outputs": [],
   "source": [
    "feats1 = ['ArmSwelling', 'FHT', 'BreastSwelling', 'Skin', 'DISCOMFORT', \n",
    "         'TIME_LAPSE_LOG', 'Mobility', 'PAS', 'BMI', \n",
    "         'ChestWallSwelling', 'Chemotherapy', 'Mastectomy']\n",
    "\n",
    "feats2 = ['ArmSwelling', 'SYM_COUNT', 'FHT', 'BreastSwelling', 'Skin', 'DISCOMFORT', \n",
    "         'TIME_LAPSE_LOG', 'Mobility', 'PAS']\n",
    "\n",
    "feats3 = ['ArmSwelling', 'FHT', 'BreastSwelling', 'Skin', 'DISCOMFORT', \n",
    "         'TIME_LAPSE_LOG', 'PAS', 'BMI', \n",
    "         'SLNB_Removed_LN', 'Radiation', 'Lumpectomy', 'Chemotherapy']"
   ]
  },
  {
   "cell_type": "code",
   "execution_count": 32,
   "metadata": {},
   "outputs": [],
   "source": [
    "feats = feats1"
   ]
  },
  {
   "cell_type": "markdown",
   "metadata": {},
   "source": [
    "Generate Test set"
   ]
  },
  {
   "cell_type": "code",
   "execution_count": 33,
   "metadata": {},
   "outputs": [
    {
     "name": "stdout",
     "output_type": "stream",
     "text": [
      "(191, 23)\n"
     ]
    }
   ],
   "source": [
    "#test_set_dir = './data/feature_selection_test_full_features.csv'\n",
    "test_set_dir = 'feature_selection_test.csv'\n",
    "data_test = pd.read_csv(test_set_dir)\n",
    "#data_test.head(5)\n",
    "print(data_test.shape)"
   ]
  },
  {
   "cell_type": "code",
   "execution_count": 34,
   "metadata": {},
   "outputs": [
    {
     "name": "stdout",
     "output_type": "stream",
     "text": [
      "shape:\n",
      "(176, 23)\n"
     ]
    }
   ],
   "source": [
    "# change one column name \n",
    "data_test = data_test.rename({'chemo_numbered':'Chemotherapy'}, axis=1)\n",
    "# remove specfic data point \n",
    "data_test = data_test[data_test.Username != 'ML509']\n",
    "# fill 0 for missing data\n",
    "for column in ['Mobility', 'ArmSwelling', 'BreastSwelling', 'Skin', 'ChestWallSwelling', 'Chemotherapy', \\\n",
    "               'Radiation', 'SLNB_Removed_LN', 'ALND_Removed_LN', 'SLNB_ALND_Removed']:\n",
    "    data_test[column].fillna(0, inplace=True)\n",
    "# drop data missing important feature\n",
    "data_test = data_test.dropna(subset=['TIME_LAPSE', 'BMI', 'Age', 'LVC'])\n",
    "# delete Username\n",
    "data_test = data_test.drop(columns='Username')\n",
    "# convert string to float\n",
    "#data_test = data_test.apply(lambda x: pd.to_numeric(x, errors='coerce'))\n",
    "data_test = data_test.astype(np.float64)\n",
    "# drop rows containing nan\n",
    "data_test = data_test.dropna()\n",
    "# drop data within a 6 months\n",
    "data_test = data_test[data_test.TIME_LAPSE >=0.5]\n",
    "# add log of time elapsed\n",
    "data_test['TIME_LAPSE_LOG'] = np.log(data_test['TIME_LAPSE'])\n",
    "\n",
    "print('shape:')\n",
    "print(data_test.shape)"
   ]
  },
  {
   "cell_type": "code",
   "execution_count": 35,
   "metadata": {},
   "outputs": [],
   "source": [
    "# generate 3 labels\n",
    "Y_test, _, _ = get_expert_tree_results(data_test, class_number=3)"
   ]
  },
  {
   "cell_type": "code",
   "execution_count": 36,
   "metadata": {},
   "outputs": [
    {
     "name": "stdout",
     "output_type": "stream",
     "text": [
      "data shape: (176, 20)\n",
      "columns:\n",
      "['Mobility' 'ArmSwelling' 'BreastSwelling' 'Skin' 'PAS' 'FHT' 'DISCOMFORT'\n",
      " 'SYM_COUNT' 'ChestWallSwelling' 'Chemotherapy' 'Radiation' 'Age'\n",
      " 'SLNB_Removed_LN' 'ALND_Removed_LN' 'SLNB_ALND_Removed' 'Mastectomy'\n",
      " 'Lumpectomy' 'Hormonal' 'BMI' 'TIME_LAPSE_LOG']\n"
     ]
    }
   ],
   "source": [
    "# drop LVC and time time elapse\n",
    "data_test = data_test.drop(columns=['LVC', 'TIME_LAPSE', 'fluid_total'])\n",
    "# prent shape and columns\n",
    "print(f\"data shape: {data_test.shape}\")\n",
    "print(\"columns:\")\n",
    "print(data_test.columns.values)"
   ]
  },
  {
   "cell_type": "code",
   "execution_count": 37,
   "metadata": {},
   "outputs": [
    {
     "name": "stdout",
     "output_type": "stream",
     "text": [
      "X shape: (176, 12)\n",
      "y length: 176\n"
     ]
    }
   ],
   "source": [
    "# get features for model  \n",
    "X_test = data_test[feats].values\n",
    "print(f\"X shape: {X_test.shape}\")\n",
    "print(f\"y length: {len(Y_test)}\")"
   ]
  },
  {
   "cell_type": "markdown",
   "metadata": {},
   "source": [
    " Do the same process for Kinect data"
   ]
  },
  {
   "cell_type": "code",
   "execution_count": 38,
   "metadata": {},
   "outputs": [
    {
     "name": "stdout",
     "output_type": "stream",
     "text": [
      "(35, 24)\n"
     ]
    }
   ],
   "source": [
    "#test_set_dir = './data/feature_selection_test_full_features.csv'\n",
    "test_set_dir = 'feature_selection_kinect_test.csv'\n",
    "data_test2 = pd.read_csv(test_set_dir)\n",
    "#data_test.head(5)\n",
    "print(data_test2.shape)"
   ]
  },
  {
   "cell_type": "code",
   "execution_count": 39,
   "metadata": {},
   "outputs": [
    {
     "name": "stdout",
     "output_type": "stream",
     "text": [
      "shape:\n",
      "(30, 24)\n"
     ]
    }
   ],
   "source": [
    "# change one column name \n",
    "data_test2 = data_test2.rename({'chemo_numbered':'Chemotherapy'}, axis=1)\n",
    "\n",
    "# fill 0 for missing data\n",
    "for column in ['Mobility', 'ArmSwelling', 'BreastSwelling', 'Skin', 'ChestWallSwelling', 'Chemotherapy', \\\n",
    "               'Radiation', 'SLNB_Removed_LN', 'ALND_Removed_LN', 'SLNB_ALND_Removed']:\n",
    "    data_test2[column].fillna(0, inplace=True)\n",
    "# drop data missing important feature\n",
    "data_test2 = data_test2.dropna(subset=['TIME_LAPSE', 'BMI', 'Age', 'LVC'])\n",
    "# delete Username\n",
    "data_test2 = data_test2.drop(columns='Username')\n",
    "# convert string to float\n",
    "#data_test = data_test.apply(lambda x: pd.to_numeric(x, errors='coerce'))\n",
    "data_test2 = data_test2.astype(np.float64)\n",
    "# drop rows containing nan\n",
    "data_test2 = data_test2.dropna()\n",
    "# drop data within a 6 months\n",
    "data_test2 = data_test2[data_test2.TIME_LAPSE >=0.5]\n",
    "# add log of time elapsed\n",
    "data_test2['TIME_LAPSE_LOG'] = np.log(data_test2['TIME_LAPSE'])\n",
    "\n",
    "print('shape:')\n",
    "print(data_test2.shape)"
   ]
  },
  {
   "cell_type": "code",
   "execution_count": 40,
   "metadata": {},
   "outputs": [],
   "source": [
    "data_test2 = data_test2.drop(columns='Number_nodes')"
   ]
  },
  {
   "cell_type": "code",
   "execution_count": 43,
   "metadata": {},
   "outputs": [],
   "source": [
    "# generate 3 labels\n",
    "Y_test2, _, _ = get_expert_tree_results2(data_test2, 3)"
   ]
  },
  {
   "cell_type": "code",
   "execution_count": 44,
   "metadata": {},
   "outputs": [
    {
     "name": "stdout",
     "output_type": "stream",
     "text": [
      "data shape: (176, 20)\n",
      "columns:\n",
      "['Mobility' 'ArmSwelling' 'BreastSwelling' 'Skin' 'PAS' 'FHT' 'DISCOMFORT'\n",
      " 'SYM_COUNT' 'ChestWallSwelling' 'Chemotherapy' 'Radiation' 'Age'\n",
      " 'SLNB_Removed_LN' 'ALND_Removed_LN' 'SLNB_ALND_Removed' 'Mastectomy'\n",
      " 'Lumpectomy' 'Hormonal' 'BMI' 'TIME_LAPSE_LOG']\n"
     ]
    }
   ],
   "source": [
    "# drop LVC and time time elapse\n",
    "data_test2 = data_test2.drop(columns=['LVC', 'TIME_LAPSE', 'fluid_total'])\n",
    "# prent shape and columns\n",
    "print(f\"data shape: {data_test.shape}\")\n",
    "print(\"columns:\")\n",
    "print(data_test2.columns.values)"
   ]
  },
  {
   "cell_type": "code",
   "execution_count": 45,
   "metadata": {},
   "outputs": [
    {
     "name": "stdout",
     "output_type": "stream",
     "text": [
      "X shape: (30, 12)\n",
      "y length: 30\n"
     ]
    }
   ],
   "source": [
    "# get features for model  \n",
    "X_test2 = data_test2[feats].values\n",
    "print(f\"X shape: {X_test2.shape}\")\n",
    "print(f\"y length: {len(Y_test2)}\")"
   ]
  },
  {
   "cell_type": "code",
   "execution_count": 46,
   "metadata": {},
   "outputs": [
    {
     "name": "stdout",
     "output_type": "stream",
     "text": [
      "(176, 12) 176 (30, 12) 30\n"
     ]
    }
   ],
   "source": [
    "print( X_test.shape, len(Y_test) , X_test2.shape,len(Y_test2)) #verify the lengtth"
   ]
  },
  {
   "cell_type": "code",
   "execution_count": 47,
   "metadata": {},
   "outputs": [],
   "source": [
    "#stick X_test2 under X_test, adn Y_test2 under Y_test\n"
   ]
  },
  {
   "cell_type": "code",
   "execution_count": 48,
   "metadata": {},
   "outputs": [
    {
     "data": {
      "text/plain": [
       "array([ True,  True,  True,  True,  True,  True,  True,  True,  True,\n",
       "        True,  True,  True])"
      ]
     },
     "execution_count": 48,
     "metadata": {},
     "output_type": "execute_result"
    }
   ],
   "source": [
    "np.concatenate((X_test, X_test2), axis=0)[0] ==X_test[0]"
   ]
  },
  {
   "cell_type": "code",
   "execution_count": 49,
   "metadata": {},
   "outputs": [
    {
     "data": {
      "text/plain": [
       "array([ True,  True,  True,  True,  True,  True,  True,  True,  True,\n",
       "        True,  True,  True])"
      ]
     },
     "execution_count": 49,
     "metadata": {},
     "output_type": "execute_result"
    }
   ],
   "source": [
    " np.concatenate((X_test, X_test2), axis=0)[-1] ==X_test2[-1] #sucesfully X_Test, X_test2 COncatenated"
   ]
  },
  {
   "cell_type": "code",
   "execution_count": 50,
   "metadata": {},
   "outputs": [],
   "source": [
    "X_test= np.concatenate((X_test, X_test2), axis=0)"
   ]
  },
  {
   "cell_type": "code",
   "execution_count": 51,
   "metadata": {},
   "outputs": [],
   "source": [
    "Y_test.extend(Y_test2)"
   ]
  },
  {
   "cell_type": "code",
   "execution_count": null,
   "metadata": {},
   "outputs": [],
   "source": []
  },
  {
   "cell_type": "code",
   "execution_count": null,
   "metadata": {},
   "outputs": [],
   "source": []
  },
  {
   "cell_type": "code",
   "execution_count": null,
   "metadata": {},
   "outputs": [],
   "source": []
  },
  {
   "cell_type": "markdown",
   "metadata": {},
   "source": [
    "Training set"
   ]
  },
  {
   "cell_type": "code",
   "execution_count": 52,
   "metadata": {},
   "outputs": [
    {
     "name": "stdout",
     "output_type": "stream",
     "text": [
      "data shape: (906, 25)\n",
      "data shape: (858, 24)\n",
      "columns:\n",
      "['Mobility' 'ArmSwelling' 'BreastSwelling' 'Skin' 'PAS' 'FHT' 'DISCOMFORT'\n",
      " 'SYM_COUNT' 'TIME_LAPSE' 'LVC' 'ChestWallSwelling' 'fluid_total'\n",
      " 'Chemotherapy' 'Radiation' 'Age' 'SLNB_Removed_LN' 'ALND_Removed_LN'\n",
      " 'SLNB_ALND_Removed' 'Number_nodes' 'Mastectomy' 'Lumpectomy' 'Hormonal'\n",
      " 'BMI' 'TIME_LAPSE_LOG']\n"
     ]
    }
   ],
   "source": [
    "# define which dataset to use \n",
    "IF_USE_PRE_DATA = 1\n",
    "\n",
    "delete_rows = ['A001', 'A003', 'A004', 'A005', 'A015', 'A016',\n",
    "               'A018', 'A025', 'A026', 'A029', 'A031', 'A032',\n",
    "               'A035', 'A036', 'A038', 'A042', 'A046', 'A055',\n",
    "               'T010', 'T013', 'T014', 'T016', 'T018', 'T019',\n",
    "               'T021', 'T026', 'T029', 'T030', 'T036', 'T038',\n",
    "               'T040', 'T043', 'T044', 'T054', 'T055', 'T056',\n",
    "               'T057'] \n",
    "\n",
    "# read in dataset \n",
    "DATA_PATH = ('./data/META_data_correct_v5.csv', './data/feature_selection_preprocessed_data.csv')[IF_USE_PRE_DATA > 0]\n",
    "data = pd.read_csv(DATA_PATH)\n",
    "print(f'data shape: {data.shape}')\n",
    "data = data[data.Username != 'ML380']\n",
    "\n",
    "# drop list of subjects\n",
    "data = data[~data.Username.isin(delete_rows)]\n",
    "# drop data within a 6 months\n",
    "data = data[data.TIME_LAPSE >=0.5]\n",
    "data = data.drop(columns=['Username', 'Unnamed: 0'] if IF_USE_PRE_DATA else 'Username')\n",
    "\n",
    "# the data_pre contain '#DEV/0!' or \"\" to make the coloumn string instead of float\n",
    "# and these dirty element would cause error in .astype operation\n",
    "# here convert \"\" or  '#DEV/0!' to nan\n",
    "#data1 = data\n",
    "data = data.apply(lambda x: pd.to_numeric(x, errors='coerce'))\n",
    "# drop rows containing nan\n",
    "data = data.dropna()\n",
    "\n",
    "# add log of time elapsed\n",
    "data['TIME_LAPSE_LOG'] = np.log(data['TIME_LAPSE'])\n",
    "\n",
    "# prent shape and columns\n",
    "print(f\"data shape: {data.shape}\")\n",
    "print(\"columns:\")\n",
    "print(data.columns.values)"
   ]
  },
  {
   "cell_type": "code",
   "execution_count": 53,
   "metadata": {},
   "outputs": [],
   "source": [
    "# generate 3 labels\n",
    "Y_train, _, _ = get_expert_tree_results(data, class_number=3)"
   ]
  },
  {
   "cell_type": "code",
   "execution_count": 54,
   "metadata": {},
   "outputs": [
    {
     "name": "stdout",
     "output_type": "stream",
     "text": [
      "data shape: (858, 20)\n",
      "columns:\n",
      "['Mobility' 'ArmSwelling' 'BreastSwelling' 'Skin' 'PAS' 'FHT' 'DISCOMFORT'\n",
      " 'SYM_COUNT' 'ChestWallSwelling' 'Chemotherapy' 'Radiation' 'Age'\n",
      " 'SLNB_Removed_LN' 'ALND_Removed_LN' 'SLNB_ALND_Removed' 'Mastectomy'\n",
      " 'Lumpectomy' 'Hormonal' 'BMI' 'TIME_LAPSE_LOG']\n",
      "X shape: (858, 12)\n",
      "y length: 858\n"
     ]
    }
   ],
   "source": [
    "# drop LVC and time time elapse\n",
    "data = data.drop(columns=['LVC', 'TIME_LAPSE', 'fluid_total', 'Number_nodes'])\n",
    "# prent shape and columns\n",
    "print(f\"data shape: {data.shape}\")\n",
    "print(\"columns:\")\n",
    "print(data.columns.values)\n",
    "# get features for model  \n",
    "X_train = data[feats].values\n",
    "print(f\"X shape: {X_train.shape}\")\n",
    "print(f\"y length: {len(Y_train)}\")"
   ]
  },
  {
   "cell_type": "markdown",
   "metadata": {},
   "source": [
    "Classifier"
   ]
  },
  {
   "cell_type": "code",
   "execution_count": 55,
   "metadata": {},
   "outputs": [
    {
     "data": {
      "text/plain": [
       "GradientBoostingClassifier(criterion='friedman_mse', init=None,\n",
       "              learning_rate=0.1, loss='deviance', max_depth=2,\n",
       "              max_features=None, max_leaf_nodes=None,\n",
       "              min_impurity_decrease=0.0, min_impurity_split=None,\n",
       "              min_samples_leaf=1, min_samples_split=2,\n",
       "              min_weight_fraction_leaf=0.0, n_estimators=70,\n",
       "              n_iter_no_change=None, presort='auto', random_state=None,\n",
       "              subsample=1.0, tol=0.0001, validation_fraction=0.1,\n",
       "              verbose=0, warm_start=False)"
      ]
     },
     "execution_count": 55,
     "metadata": {},
     "output_type": "execute_result"
    }
   ],
   "source": [
    "# gradient boosting tree\n",
    "from sklearn.ensemble import GradientBoostingClassifier\n",
    "params = {'learning_rate': 0.1, 'max_depth': 2, 'n_estimators': 70}\n",
    "gbt = GradientBoostingClassifier(**params)\n",
    "gbt"
   ]
  },
  {
   "cell_type": "markdown",
   "metadata": {},
   "source": [
    "**Train and test using feature subset**"
   ]
  },
  {
   "cell_type": "code",
   "execution_count": 56,
   "metadata": {},
   "outputs": [
    {
     "name": "stdout",
     "output_type": "stream",
     "text": [
      "X train: (858, 12)\n",
      "Y train: 858\n",
      "X test: (206, 12)\n",
      "Y test: 206\n"
     ]
    }
   ],
   "source": [
    "print(f'X train: {X_train.shape}')\n",
    "print(f'Y train: {len(Y_train)}')\n",
    "print(f'X test: {X_test.shape}')\n",
    "print(f'Y test: {len(Y_test)}')"
   ]
  },
  {
   "cell_type": "code",
   "execution_count": 57,
   "metadata": {},
   "outputs": [
    {
     "name": "stdout",
     "output_type": "stream",
     "text": [
      "learnt importance:\n"
     ]
    },
    {
     "data": {
      "text/plain": [
       "[('ArmSwelling', 0.6258789879114158),\n",
       " ('FHT', 0.11936156606848035),\n",
       " ('BreastSwelling', 0.07109668201966737),\n",
       " ('Skin', 0.05518804564892675),\n",
       " ('DISCOMFORT', 0.045725080605642454),\n",
       " ('TIME_LAPSE_LOG', 0.027881689237236773),\n",
       " ('Mobility', 0.023433218436228597),\n",
       " ('PAS', 0.018299294972359846),\n",
       " ('BMI', 0.009224283243041006),\n",
       " ('ChestWallSwelling', 0.003911151857001204),\n",
       " ('Chemotherapy', 0.0),\n",
       " ('Mastectomy', 0.0)]"
      ]
     },
     "execution_count": 57,
     "metadata": {},
     "output_type": "execute_result"
    }
   ],
   "source": [
    "gbt= gbt.fit(X_train, Y_train)\n",
    "feature_weight_pair = sorted(zip(feats, gbt.feature_importances_), key=lambda pair : pair[1], reverse=True)\n",
    "print('learnt importance:')\n",
    "feature_weight_pair"
   ]
  },
  {
   "cell_type": "code",
   "execution_count": 58,
   "metadata": {},
   "outputs": [
    {
     "name": "stdout",
     "output_type": "stream",
     "text": [
      "accuracy: 0.9320388349514563\n",
      "confusion matrix:\n",
      "[[127   1   0]\n",
      " [  5  30   0]\n",
      " [  0   8  35]]\n"
     ]
    }
   ],
   "source": [
    "accu = gbt.score(X_test, Y_test)\n",
    "print(f'accuracy: {accu}')\n",
    "CM = confusion_matrix(Y_test, gbt.predict(X_test))\n",
    "print('confusion matrix:')\n",
    "print(CM)"
   ]
  },
  {
   "cell_type": "code",
   "execution_count": null,
   "metadata": {},
   "outputs": [],
   "source": []
  },
  {
   "cell_type": "code",
   "execution_count": null,
   "metadata": {},
   "outputs": [],
   "source": []
  },
  {
   "cell_type": "markdown",
   "metadata": {},
   "source": [
    "**Train and test using all feature**"
   ]
  },
  {
   "cell_type": "code",
   "execution_count": 59,
   "metadata": {},
   "outputs": [
    {
     "data": {
      "text/plain": [
       "Index(['Mobility', 'ArmSwelling', 'BreastSwelling', 'Skin', 'PAS', 'FHT',\n",
       "       'DISCOMFORT', 'SYM_COUNT', 'ChestWallSwelling', 'Chemotherapy',\n",
       "       'Radiation', 'Age', 'SLNB_Removed_LN', 'ALND_Removed_LN',\n",
       "       'SLNB_ALND_Removed', 'Mastectomy', 'Lumpectomy', 'Hormonal', 'BMI',\n",
       "       'TIME_LAPSE_LOG'],\n",
       "      dtype='object')"
      ]
     },
     "execution_count": 59,
     "metadata": {},
     "output_type": "execute_result"
    }
   ],
   "source": [
    "data_test2.columns "
   ]
  },
  {
   "cell_type": "code",
   "execution_count": 60,
   "metadata": {},
   "outputs": [],
   "source": [
    "X_test = data_test.values\n",
    "X_test2 = data_test2.values"
   ]
  },
  {
   "cell_type": "code",
   "execution_count": 61,
   "metadata": {},
   "outputs": [
    {
     "name": "stdout",
     "output_type": "stream",
     "text": [
      "(176, 20) (30, 20)\n"
     ]
    }
   ],
   "source": [
    "print(X_test.shape , X_test2.shape)"
   ]
  },
  {
   "cell_type": "code",
   "execution_count": 62,
   "metadata": {},
   "outputs": [
    {
     "data": {
      "text/plain": [
       "(206, 20)"
      ]
     },
     "execution_count": 62,
     "metadata": {},
     "output_type": "execute_result"
    }
   ],
   "source": [
    "np.concatenate((X_test, X_test2), axis=0).shape"
   ]
  },
  {
   "cell_type": "code",
   "execution_count": 63,
   "metadata": {},
   "outputs": [
    {
     "name": "stdout",
     "output_type": "stream",
     "text": [
      "X train: (858, 20)\n",
      "Y train: 858\n",
      "X test: (206, 20)\n",
      "Y test: 206\n"
     ]
    }
   ],
   "source": [
    "X_train = data.values\n",
    "X_test = np.concatenate((X_test, X_test2), axis=0)\n",
    "print(f'X train: {X_train.shape}')\n",
    "print(f'Y train: {len(Y_train)}')\n",
    "print(f'X test: {X_test.shape}')\n",
    "print(f'Y test: {len(Y_test)}')"
   ]
  },
  {
   "cell_type": "code",
   "execution_count": null,
   "metadata": {},
   "outputs": [],
   "source": []
  },
  {
   "cell_type": "code",
   "execution_count": 64,
   "metadata": {},
   "outputs": [
    {
     "name": "stdout",
     "output_type": "stream",
     "text": [
      "learnt importance:\n"
     ]
    },
    {
     "data": {
      "text/plain": [
       "[('ArmSwelling', 0.5992472470765142),\n",
       " ('SYM_COUNT', 0.15317670646953313),\n",
       " ('FHT', 0.06027047071576672),\n",
       " ('BreastSwelling', 0.057588135189392674),\n",
       " ('Skin', 0.04214504429255917),\n",
       " ('DISCOMFORT', 0.02860573235263586),\n",
       " ('TIME_LAPSE_LOG', 0.025565996176799183),\n",
       " ('Mobility', 0.010626149575466185),\n",
       " ('BMI', 0.006766147049681877),\n",
       " ('PAS', 0.003111608707692861),\n",
       " ('ChestWallSwelling', 0.0030876563832920433),\n",
       " ('Age', 0.0029442990095847627),\n",
       " ('SLNB_ALND_Removed', 0.0025788748207408473),\n",
       " ('ALND_Removed_LN', 0.0025617524720380975),\n",
       " ('SLNB_Removed_LN', 0.0011608676028077424),\n",
       " ('Radiation', 0.000352369989567843),\n",
       " ('Lumpectomy', 0.00021094211592681013),\n",
       " ('Chemotherapy', 0.0),\n",
       " ('Mastectomy', 0.0),\n",
       " ('Hormonal', 0.0)]"
      ]
     },
     "execution_count": 64,
     "metadata": {},
     "output_type": "execute_result"
    }
   ],
   "source": [
    "gbt= gbt.fit(X_train, Y_train)\n",
    "feature_weight_pair = sorted(zip(data.columns.values, gbt.feature_importances_), key=lambda pair : pair[1], reverse=True)\n",
    "print('learnt importance:')\n",
    "feature_weight_pair"
   ]
  },
  {
   "cell_type": "code",
   "execution_count": 65,
   "metadata": {},
   "outputs": [
    {
     "name": "stdout",
     "output_type": "stream",
     "text": [
      "accuracy: 0.9223300970873787\n",
      "confusion matrix:\n",
      "[[127   1   0]\n",
      " [  6  28   1]\n",
      " [  0   8  35]]\n"
     ]
    }
   ],
   "source": [
    "accu = gbt.score(X_test, Y_test)\n",
    "print(f'accuracy: {accu}')\n",
    "CM = confusion_matrix(Y_test, gbt.predict(X_test))\n",
    "print('confusion matrix:')\n",
    "print(CM)"
   ]
  },
  {
   "cell_type": "markdown",
   "metadata": {},
   "source": [
    "Check if there are sample overlap between the train and validation:"
   ]
  },
  {
   "cell_type": "code",
   "execution_count": 66,
   "metadata": {},
   "outputs": [
    {
     "data": {
      "text/html": [
       "<div>\n",
       "<style scoped>\n",
       "    .dataframe tbody tr th:only-of-type {\n",
       "        vertical-align: middle;\n",
       "    }\n",
       "\n",
       "    .dataframe tbody tr th {\n",
       "        vertical-align: top;\n",
       "    }\n",
       "\n",
       "    .dataframe thead th {\n",
       "        text-align: right;\n",
       "    }\n",
       "</style>\n",
       "<table border=\"1\" class=\"dataframe\">\n",
       "  <thead>\n",
       "    <tr style=\"text-align: right;\">\n",
       "      <th></th>\n",
       "      <th>Username</th>\n",
       "      <th>Mobility_x</th>\n",
       "      <th>ArmSwelling_x</th>\n",
       "      <th>BreastSwelling_x</th>\n",
       "      <th>Skin_x</th>\n",
       "      <th>PAS_x</th>\n",
       "      <th>FHT_x</th>\n",
       "      <th>DISCOMFORT_x</th>\n",
       "      <th>SYM_COUNT_x</th>\n",
       "      <th>TIME_LAPSE_x</th>\n",
       "      <th>...</th>\n",
       "      <th>Radiation_y</th>\n",
       "      <th>Age_y</th>\n",
       "      <th>SLNB_Removed_LN_y</th>\n",
       "      <th>ALND_Removed_LN_y</th>\n",
       "      <th>SLNB_ALND_Removed_y</th>\n",
       "      <th>Number_nodes</th>\n",
       "      <th>Mastectomy_y</th>\n",
       "      <th>Lumpectomy_y</th>\n",
       "      <th>Hormonal_y</th>\n",
       "      <th>BMI_y</th>\n",
       "    </tr>\n",
       "  </thead>\n",
       "  <tbody>\n",
       "    <tr>\n",
       "      <th>0</th>\n",
       "      <td>ML380</td>\n",
       "      <td>2</td>\n",
       "      <td>0</td>\n",
       "      <td>2</td>\n",
       "      <td>0</td>\n",
       "      <td>1</td>\n",
       "      <td>0</td>\n",
       "      <td>1</td>\n",
       "      <td>5</td>\n",
       "      <td>0.8</td>\n",
       "      <td>...</td>\n",
       "      <td>1</td>\n",
       "      <td>70.0</td>\n",
       "      <td>1.0</td>\n",
       "      <td>0.0</td>\n",
       "      <td>0.0</td>\n",
       "      <td>1.0</td>\n",
       "      <td>0</td>\n",
       "      <td>1</td>\n",
       "      <td>1</td>\n",
       "      <td>39.8</td>\n",
       "    </tr>\n",
       "  </tbody>\n",
       "</table>\n",
       "<p>1 rows × 47 columns</p>\n",
       "</div>"
      ],
      "text/plain": [
       "  Username  Mobility_x ArmSwelling_x BreastSwelling_x Skin_x PAS_x FHT_x  \\\n",
       "0    ML380           2             0                2      0     1     0   \n",
       "\n",
       "   DISCOMFORT_x  SYM_COUNT_x TIME_LAPSE_x  ...   Radiation_y Age_y  \\\n",
       "0             1            5          0.8  ...             1  70.0   \n",
       "\n",
       "   SLNB_Removed_LN_y  ALND_Removed_LN_y  SLNB_ALND_Removed_y  Number_nodes  \\\n",
       "0                1.0                0.0                  0.0           1.0   \n",
       "\n",
       "   Mastectomy_y  Lumpectomy_y  Hormonal_y  BMI_y  \n",
       "0             0             1           1   39.8  \n",
       "\n",
       "[1 rows x 47 columns]"
      ]
     },
     "execution_count": 66,
     "metadata": {},
     "output_type": "execute_result"
    }
   ],
   "source": [
    "dir1 = 'feature_selection_test.csv'\n",
    "dataTest = pd.read_csv(dir1)\n",
    "dataTrain = pd.read_csv(DATA_PATH)\n",
    "s1 = pd.merge(dataTest, dataTrain, how='inner', on=['Username'])\n",
    "s1"
   ]
  },
  {
   "cell_type": "code",
   "execution_count": 67,
   "metadata": {},
   "outputs": [
    {
     "data": {
      "text/html": [
       "<div>\n",
       "<style scoped>\n",
       "    .dataframe tbody tr th:only-of-type {\n",
       "        vertical-align: middle;\n",
       "    }\n",
       "\n",
       "    .dataframe tbody tr th {\n",
       "        vertical-align: top;\n",
       "    }\n",
       "\n",
       "    .dataframe thead th {\n",
       "        text-align: right;\n",
       "    }\n",
       "</style>\n",
       "<table border=\"1\" class=\"dataframe\">\n",
       "  <thead>\n",
       "    <tr style=\"text-align: right;\">\n",
       "      <th></th>\n",
       "      <th>Username</th>\n",
       "      <th>Mobility_x</th>\n",
       "      <th>ArmSwelling_x</th>\n",
       "      <th>BreastSwelling_x</th>\n",
       "      <th>Skin_x</th>\n",
       "      <th>PAS_x</th>\n",
       "      <th>FHT_x</th>\n",
       "      <th>DISCOMFORT_x</th>\n",
       "      <th>SYM_COUNT_x</th>\n",
       "      <th>TIME_LAPSE_x</th>\n",
       "      <th>...</th>\n",
       "      <th>Radiation_y</th>\n",
       "      <th>Age_y</th>\n",
       "      <th>SLNB_Removed_LN_y</th>\n",
       "      <th>ALND_Removed_LN_y</th>\n",
       "      <th>SLNB_ALND_Removed_y</th>\n",
       "      <th>Number_nodes_y</th>\n",
       "      <th>Mastectomy_y</th>\n",
       "      <th>Lumpectomy_y</th>\n",
       "      <th>Hormonal_y</th>\n",
       "      <th>BMI_y</th>\n",
       "    </tr>\n",
       "  </thead>\n",
       "  <tbody>\n",
       "  </tbody>\n",
       "</table>\n",
       "<p>0 rows × 48 columns</p>\n",
       "</div>"
      ],
      "text/plain": [
       "Empty DataFrame\n",
       "Columns: [Username, Mobility_x, ArmSwelling_x, BreastSwelling_x, Skin_x, PAS_x, FHT_x, DISCOMFORT_x, SYM_COUNT_x, TIME_LAPSE_x, LVC_x, ChestWallSwelling_x, fluid_total_x, Chemotherapy_x, Radiation_x, Age_x, SLNB_Removed_LN_x, ALND_Removed_LN_x, SLNB_ALND_Removed_x, Number_nodes_x, Mastectomy_x, Lumpectomy_x, Hormonal_x, BMI_x, Unnamed: 0, Mobility_y, ArmSwelling_y, BreastSwelling_y, Skin_y, PAS_y, FHT_y, DISCOMFORT_y, SYM_COUNT_y, TIME_LAPSE_y, LVC_y, ChestWallSwelling_y, fluid_total_y, Chemotherapy_y, Radiation_y, Age_y, SLNB_Removed_LN_y, ALND_Removed_LN_y, SLNB_ALND_Removed_y, Number_nodes_y, Mastectomy_y, Lumpectomy_y, Hormonal_y, BMI_y]\n",
       "Index: []\n",
       "\n",
       "[0 rows x 48 columns]"
      ]
     },
     "execution_count": 67,
     "metadata": {},
     "output_type": "execute_result"
    }
   ],
   "source": [
    "dir2 =  'feature_selection_kinect_test.csv'\n",
    "dataTest = pd.read_csv(dir2)\n",
    "dataTrain = pd.read_csv(DATA_PATH)\n",
    "s1 = pd.merge(dataTest, dataTrain, how='inner', on=['Username'])\n",
    "s1"
   ]
  },
  {
   "cell_type": "code",
   "execution_count": null,
   "metadata": {},
   "outputs": [],
   "source": [
    "# print(sorted(dataTest['Username'].values))"
   ]
  },
  {
   "cell_type": "code",
   "execution_count": null,
   "metadata": {},
   "outputs": [],
   "source": [
    "# print(sorted(dataTrain['Username'].values))"
   ]
  },
  {
   "cell_type": "markdown",
   "metadata": {},
   "source": [
    "Check label distribution"
   ]
  },
  {
   "cell_type": "code",
   "execution_count": 69,
   "metadata": {},
   "outputs": [
    {
     "data": {
      "text/plain": [
       "{0: 128, 1: 35, 2: 43}"
      ]
     },
     "execution_count": 69,
     "metadata": {},
     "output_type": "execute_result"
    }
   ],
   "source": [
    "{label:count for label, count in zip(*np.unique(Y_test, return_counts=True))}"
   ]
  },
  {
   "cell_type": "code",
   "execution_count": 70,
   "metadata": {},
   "outputs": [
    {
     "data": {
      "text/plain": [
       "{0: 385, 1: 219, 2: 254}"
      ]
     },
     "execution_count": 70,
     "metadata": {},
     "output_type": "execute_result"
    }
   ],
   "source": [
    "{label:count for label, count in zip(*np.unique(Y_train, return_counts=True))}"
   ]
  },
  {
   "cell_type": "code",
   "execution_count": null,
   "metadata": {},
   "outputs": [],
   "source": []
  },
  {
   "cell_type": "code",
   "execution_count": null,
   "metadata": {},
   "outputs": [],
   "source": [
    "Y_test2, _, _ = get_expert_tree_results2(data_test2, 3)"
   ]
  },
  {
   "cell_type": "code",
   "execution_count": 71,
   "metadata": {},
   "outputs": [
    {
     "ename": "KeyError",
     "evalue": "'TIME_LAPSE'",
     "output_type": "error",
     "traceback": [
      "\u001b[1;31m---------------------------------------------------------------------------\u001b[0m",
      "\u001b[1;31mTypeError\u001b[0m                                 Traceback (most recent call last)",
      "\u001b[1;32m~\\AppData\\Roaming\\Python\\Python36\\site-packages\\pandas\\core\\indexes\\base.py\u001b[0m in \u001b[0;36mget_value\u001b[1;34m(self, series, key)\u001b[0m\n\u001b[0;32m   3108\u001b[0m             \u001b[1;32mtry\u001b[0m\u001b[1;33m:\u001b[0m\u001b[1;33m\u001b[0m\u001b[0m\n\u001b[1;32m-> 3109\u001b[1;33m                 \u001b[1;32mreturn\u001b[0m \u001b[0mlibindex\u001b[0m\u001b[1;33m.\u001b[0m\u001b[0mget_value_box\u001b[0m\u001b[1;33m(\u001b[0m\u001b[0ms\u001b[0m\u001b[1;33m,\u001b[0m \u001b[0mkey\u001b[0m\u001b[1;33m)\u001b[0m\u001b[1;33m\u001b[0m\u001b[0m\n\u001b[0m\u001b[0;32m   3110\u001b[0m             \u001b[1;32mexcept\u001b[0m \u001b[0mIndexError\u001b[0m\u001b[1;33m:\u001b[0m\u001b[1;33m\u001b[0m\u001b[0m\n",
      "\u001b[1;32mpandas\\_libs\\index.pyx\u001b[0m in \u001b[0;36mpandas._libs.index.get_value_box\u001b[1;34m()\u001b[0m\n",
      "\u001b[1;32mpandas\\_libs\\index.pyx\u001b[0m in \u001b[0;36mpandas._libs.index.get_value_box\u001b[1;34m()\u001b[0m\n",
      "\u001b[1;31mTypeError\u001b[0m: 'str' object cannot be interpreted as an integer",
      "\nDuring handling of the above exception, another exception occurred:\n",
      "\u001b[1;31mKeyError\u001b[0m                                  Traceback (most recent call last)",
      "\u001b[1;32m<ipython-input-71-7ac2c074d819>\u001b[0m in \u001b[0;36m<module>\u001b[1;34m()\u001b[0m\n\u001b[1;32m----> 1\u001b[1;33m \u001b[0mY_train\u001b[0m\u001b[1;33m,\u001b[0m \u001b[0m_\u001b[0m\u001b[1;33m,\u001b[0m \u001b[0m_\u001b[0m \u001b[1;33m=\u001b[0m \u001b[0mget_expert_tree_results\u001b[0m\u001b[1;33m(\u001b[0m\u001b[0mdata\u001b[0m\u001b[1;33m,\u001b[0m\u001b[1;36m4\u001b[0m\u001b[1;33m)\u001b[0m\u001b[1;33m\u001b[0m\u001b[0m\n\u001b[0m",
      "\u001b[1;32m~\\code\\python\\ML-lymph-edema\\feature selection\\Lymphedema-Detection-and-Prediction-for-Breast-Cancer-Survivors\\expert_tree.py\u001b[0m in \u001b[0;36mget_expert_tree_results\u001b[1;34m(data, class_number)\u001b[0m\n\u001b[0;32m    288\u001b[0m \u001b[1;33m\u001b[0m\u001b[0m\n\u001b[0;32m    289\u001b[0m         \u001b[1;31m# run the algorithm in the expert tree\u001b[0m\u001b[1;33m\u001b[0m\u001b[1;33m\u001b[0m\u001b[0m\n\u001b[1;32m--> 290\u001b[1;33m         \u001b[0mexp_tree\u001b[0m \u001b[1;33m=\u001b[0m \u001b[0mExpert_Tree\u001b[0m\u001b[1;33m(\u001b[0m\u001b[0mrow\u001b[0m\u001b[1;33m)\u001b[0m\u001b[1;33m\u001b[0m\u001b[0m\n\u001b[0m\u001b[0;32m    291\u001b[0m         \u001b[0mexpert_tag\u001b[0m \u001b[1;33m=\u001b[0m \u001b[0mexp_tree\u001b[0m\u001b[1;33m.\u001b[0m\u001b[0mrun\u001b[0m\u001b[1;33m(\u001b[0m\u001b[1;33m)\u001b[0m\u001b[1;33m\u001b[0m\u001b[0m\n\u001b[0;32m    292\u001b[0m \u001b[1;33m\u001b[0m\u001b[0m\n",
      "\u001b[1;32m~\\code\\python\\ML-lymph-edema\\feature selection\\Lymphedema-Detection-and-Prediction-for-Breast-Cancer-Survivors\\expert_tree.py\u001b[0m in \u001b[0;36m__init__\u001b[1;34m(self, row)\u001b[0m\n\u001b[0;32m     18\u001b[0m                    \u001b[1;34m'symcount'\u001b[0m\u001b[1;33m:\u001b[0m\u001b[1;34m'SYM_COUNT'\u001b[0m\u001b[1;33m,\u001b[0m \u001b[1;34m'timelap'\u001b[0m\u001b[1;33m:\u001b[0m\u001b[1;34m'TIME_LAPSE'\u001b[0m\u001b[1;33m,\u001b[0m \u001b[1;34m'LVC'\u001b[0m\u001b[1;33m:\u001b[0m\u001b[1;34m'LVC'\u001b[0m\u001b[1;33m,\u001b[0m\u001b[0;31m\\\u001b[0m\u001b[1;33m\u001b[0m\u001b[0m\n\u001b[0;32m     19\u001b[0m                    'CS':'ChestWallSwelling', 'fluid':'fluid_total'}\n\u001b[1;32m---> 20\u001b[1;33m         \u001b[0mself\u001b[0m\u001b[1;33m.\u001b[0m\u001b[0md\u001b[0m \u001b[1;33m=\u001b[0m \u001b[1;33m{\u001b[0m\u001b[0mkey\u001b[0m\u001b[1;33m:\u001b[0m\u001b[0mrow\u001b[0m\u001b[1;33m[\u001b[0m\u001b[0mnamemap\u001b[0m\u001b[1;33m[\u001b[0m\u001b[0mkey\u001b[0m\u001b[1;33m]\u001b[0m\u001b[1;33m]\u001b[0m \u001b[1;32mfor\u001b[0m \u001b[0mkey\u001b[0m \u001b[1;32min\u001b[0m \u001b[0mnamemap\u001b[0m\u001b[1;33m}\u001b[0m\u001b[1;33m\u001b[0m\u001b[0m\n\u001b[0m\u001b[0;32m     21\u001b[0m         \u001b[0mself\u001b[0m\u001b[1;33m.\u001b[0m\u001b[0mstr\u001b[0m \u001b[1;33m=\u001b[0m \u001b[1;34m''\u001b[0m\u001b[1;33m\u001b[0m\u001b[0m\n\u001b[0;32m     22\u001b[0m \u001b[1;31m#         self.d['mobility']=  row[0]\u001b[0m\u001b[1;33m\u001b[0m\u001b[1;33m\u001b[0m\u001b[0m\n",
      "\u001b[1;32m~\\code\\python\\ML-lymph-edema\\feature selection\\Lymphedema-Detection-and-Prediction-for-Breast-Cancer-Survivors\\expert_tree.py\u001b[0m in \u001b[0;36m<dictcomp>\u001b[1;34m(.0)\u001b[0m\n\u001b[0;32m     18\u001b[0m                    \u001b[1;34m'symcount'\u001b[0m\u001b[1;33m:\u001b[0m\u001b[1;34m'SYM_COUNT'\u001b[0m\u001b[1;33m,\u001b[0m \u001b[1;34m'timelap'\u001b[0m\u001b[1;33m:\u001b[0m\u001b[1;34m'TIME_LAPSE'\u001b[0m\u001b[1;33m,\u001b[0m \u001b[1;34m'LVC'\u001b[0m\u001b[1;33m:\u001b[0m\u001b[1;34m'LVC'\u001b[0m\u001b[1;33m,\u001b[0m\u001b[0;31m\\\u001b[0m\u001b[1;33m\u001b[0m\u001b[0m\n\u001b[0;32m     19\u001b[0m                    'CS':'ChestWallSwelling', 'fluid':'fluid_total'}\n\u001b[1;32m---> 20\u001b[1;33m         \u001b[0mself\u001b[0m\u001b[1;33m.\u001b[0m\u001b[0md\u001b[0m \u001b[1;33m=\u001b[0m \u001b[1;33m{\u001b[0m\u001b[0mkey\u001b[0m\u001b[1;33m:\u001b[0m\u001b[0mrow\u001b[0m\u001b[1;33m[\u001b[0m\u001b[0mnamemap\u001b[0m\u001b[1;33m[\u001b[0m\u001b[0mkey\u001b[0m\u001b[1;33m]\u001b[0m\u001b[1;33m]\u001b[0m \u001b[1;32mfor\u001b[0m \u001b[0mkey\u001b[0m \u001b[1;32min\u001b[0m \u001b[0mnamemap\u001b[0m\u001b[1;33m}\u001b[0m\u001b[1;33m\u001b[0m\u001b[0m\n\u001b[0m\u001b[0;32m     21\u001b[0m         \u001b[0mself\u001b[0m\u001b[1;33m.\u001b[0m\u001b[0mstr\u001b[0m \u001b[1;33m=\u001b[0m \u001b[1;34m''\u001b[0m\u001b[1;33m\u001b[0m\u001b[0m\n\u001b[0;32m     22\u001b[0m \u001b[1;31m#         self.d['mobility']=  row[0]\u001b[0m\u001b[1;33m\u001b[0m\u001b[1;33m\u001b[0m\u001b[0m\n",
      "\u001b[1;32m~\\AppData\\Roaming\\Python\\Python36\\site-packages\\pandas\\core\\series.py\u001b[0m in \u001b[0;36m__getitem__\u001b[1;34m(self, key)\u001b[0m\n\u001b[0;32m    764\u001b[0m         \u001b[0mkey\u001b[0m \u001b[1;33m=\u001b[0m \u001b[0mcom\u001b[0m\u001b[1;33m.\u001b[0m\u001b[0m_apply_if_callable\u001b[0m\u001b[1;33m(\u001b[0m\u001b[0mkey\u001b[0m\u001b[1;33m,\u001b[0m \u001b[0mself\u001b[0m\u001b[1;33m)\u001b[0m\u001b[1;33m\u001b[0m\u001b[0m\n\u001b[0;32m    765\u001b[0m         \u001b[1;32mtry\u001b[0m\u001b[1;33m:\u001b[0m\u001b[1;33m\u001b[0m\u001b[0m\n\u001b[1;32m--> 766\u001b[1;33m             \u001b[0mresult\u001b[0m \u001b[1;33m=\u001b[0m \u001b[0mself\u001b[0m\u001b[1;33m.\u001b[0m\u001b[0mindex\u001b[0m\u001b[1;33m.\u001b[0m\u001b[0mget_value\u001b[0m\u001b[1;33m(\u001b[0m\u001b[0mself\u001b[0m\u001b[1;33m,\u001b[0m \u001b[0mkey\u001b[0m\u001b[1;33m)\u001b[0m\u001b[1;33m\u001b[0m\u001b[0m\n\u001b[0m\u001b[0;32m    767\u001b[0m \u001b[1;33m\u001b[0m\u001b[0m\n\u001b[0;32m    768\u001b[0m             \u001b[1;32mif\u001b[0m \u001b[1;32mnot\u001b[0m \u001b[0mis_scalar\u001b[0m\u001b[1;33m(\u001b[0m\u001b[0mresult\u001b[0m\u001b[1;33m)\u001b[0m\u001b[1;33m:\u001b[0m\u001b[1;33m\u001b[0m\u001b[0m\n",
      "\u001b[1;32m~\\AppData\\Roaming\\Python\\Python36\\site-packages\\pandas\\core\\indexes\\base.py\u001b[0m in \u001b[0;36mget_value\u001b[1;34m(self, series, key)\u001b[0m\n\u001b[0;32m   3115\u001b[0m                     \u001b[1;32mraise\u001b[0m \u001b[0mInvalidIndexError\u001b[0m\u001b[1;33m(\u001b[0m\u001b[0mkey\u001b[0m\u001b[1;33m)\u001b[0m\u001b[1;33m\u001b[0m\u001b[0m\n\u001b[0;32m   3116\u001b[0m                 \u001b[1;32melse\u001b[0m\u001b[1;33m:\u001b[0m\u001b[1;33m\u001b[0m\u001b[0m\n\u001b[1;32m-> 3117\u001b[1;33m                     \u001b[1;32mraise\u001b[0m \u001b[0me1\u001b[0m\u001b[1;33m\u001b[0m\u001b[0m\n\u001b[0m\u001b[0;32m   3118\u001b[0m             \u001b[1;32mexcept\u001b[0m \u001b[0mException\u001b[0m\u001b[1;33m:\u001b[0m  \u001b[1;31m# pragma: no cover\u001b[0m\u001b[1;33m\u001b[0m\u001b[0m\n\u001b[0;32m   3119\u001b[0m                 \u001b[1;32mraise\u001b[0m \u001b[0me1\u001b[0m\u001b[1;33m\u001b[0m\u001b[0m\n",
      "\u001b[1;32m~\\AppData\\Roaming\\Python\\Python36\\site-packages\\pandas\\core\\indexes\\base.py\u001b[0m in \u001b[0;36mget_value\u001b[1;34m(self, series, key)\u001b[0m\n\u001b[0;32m   3101\u001b[0m         \u001b[1;32mtry\u001b[0m\u001b[1;33m:\u001b[0m\u001b[1;33m\u001b[0m\u001b[0m\n\u001b[0;32m   3102\u001b[0m             return self._engine.get_value(s, k,\n\u001b[1;32m-> 3103\u001b[1;33m                                           tz=getattr(series.dtype, 'tz', None))\n\u001b[0m\u001b[0;32m   3104\u001b[0m         \u001b[1;32mexcept\u001b[0m \u001b[0mKeyError\u001b[0m \u001b[1;32mas\u001b[0m \u001b[0me1\u001b[0m\u001b[1;33m:\u001b[0m\u001b[1;33m\u001b[0m\u001b[0m\n\u001b[0;32m   3105\u001b[0m             \u001b[1;32mif\u001b[0m \u001b[0mlen\u001b[0m\u001b[1;33m(\u001b[0m\u001b[0mself\u001b[0m\u001b[1;33m)\u001b[0m \u001b[1;33m>\u001b[0m \u001b[1;36m0\u001b[0m \u001b[1;32mand\u001b[0m \u001b[0mself\u001b[0m\u001b[1;33m.\u001b[0m\u001b[0minferred_type\u001b[0m \u001b[1;32min\u001b[0m \u001b[1;33m[\u001b[0m\u001b[1;34m'integer'\u001b[0m\u001b[1;33m,\u001b[0m \u001b[1;34m'boolean'\u001b[0m\u001b[1;33m]\u001b[0m\u001b[1;33m:\u001b[0m\u001b[1;33m\u001b[0m\u001b[0m\n",
      "\u001b[1;32mpandas\\_libs\\index.pyx\u001b[0m in \u001b[0;36mpandas._libs.index.IndexEngine.get_value\u001b[1;34m()\u001b[0m\n",
      "\u001b[1;32mpandas\\_libs\\index.pyx\u001b[0m in \u001b[0;36mpandas._libs.index.IndexEngine.get_value\u001b[1;34m()\u001b[0m\n",
      "\u001b[1;32mpandas\\_libs\\index.pyx\u001b[0m in \u001b[0;36mpandas._libs.index.IndexEngine.get_loc\u001b[1;34m()\u001b[0m\n",
      "\u001b[1;32mpandas\\_libs\\hashtable_class_helper.pxi\u001b[0m in \u001b[0;36mpandas._libs.hashtable.PyObjectHashTable.get_item\u001b[1;34m()\u001b[0m\n",
      "\u001b[1;32mpandas\\_libs\\hashtable_class_helper.pxi\u001b[0m in \u001b[0;36mpandas._libs.hashtable.PyObjectHashTable.get_item\u001b[1;34m()\u001b[0m\n",
      "\u001b[1;31mKeyError\u001b[0m: 'TIME_LAPSE'"
     ]
    }
   ],
   "source": [
    "Y_train, _, _ = get_expert_tree_results(data,4)"
   ]
  }
 ],
 "metadata": {
  "kernelspec": {
   "display_name": "Python 3",
   "language": "python",
   "name": "python3"
  },
  "language_info": {
   "codemirror_mode": {
    "name": "ipython",
    "version": 3
   },
   "file_extension": ".py",
   "mimetype": "text/x-python",
   "name": "python",
   "nbconvert_exporter": "python",
   "pygments_lexer": "ipython3",
   "version": "3.6.2"
  }
 },
 "nbformat": 4,
 "nbformat_minor": 4
}
