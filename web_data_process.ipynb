{
 "cells": [
  {
   "cell_type": "code",
   "execution_count": 1,
   "metadata": {},
   "outputs": [],
   "source": [
    "import os \n",
    "import pandas as pd \n",
    "import numpy as np \n",
    "import re\n",
    "import collections"
   ]
  },
  {
   "cell_type": "code",
   "execution_count": 2,
   "metadata": {},
   "outputs": [
    {
     "name": "stdout",
     "output_type": "stream",
     "text": [
      "raw data shape: (355, 28)\n"
     ]
    }
   ],
   "source": [
    "# read raw data  \n",
    "raw_data = pd.read_csv('./data/newdataset_Fugmail_jc2.csv')\n",
    "raw_data = raw_data[[f'BCLSEI{n}' for n in range(1, 26)] + ['Dxlength', 'Age','Lymphedema']]\n",
    "print('raw data shape:', raw_data.shape)"
   ]
  },
  {
   "cell_type": "code",
   "execution_count": 3,
   "metadata": {},
   "outputs": [
    {
     "name": "stdout",
     "output_type": "stream",
     "text": [
      "drop no time lapse (329, 28)\n"
     ]
    }
   ],
   "source": [
    "# drop data without time lapse\n",
    "raw_data = raw_data.dropna(subset=['Dxlength'])\n",
    "print('drop no time lapse', raw_data.shape)"
   ]
  },
  {
   "cell_type": "code",
   "execution_count": 4,
   "metadata": {},
   "outputs": [
    {
     "name": "stdout",
     "output_type": "stream",
     "text": [
      "drop time elapse < 0.5 (316, 28)\n"
     ]
    }
   ],
   "source": [
    "# drop data with timelapse < 0.5\n",
    "raw_data['Dxlength'] = raw_data['Dxlength'].apply(lambda x : float(x))\n",
    "raw_data = raw_data[raw_data['Dxlength']>=0.5]\n",
    "print('drop time elapse < 0.5', raw_data.shape)"
   ]
  },
  {
   "cell_type": "code",
   "execution_count": 5,
   "metadata": {},
   "outputs": [],
   "source": [
    "# fill missing data with 0 \n",
    "raw_data = raw_data.fillna(0) "
   ]
  },
  {
   "cell_type": "code",
   "execution_count": 6,
   "metadata": {},
   "outputs": [],
   "source": [
    "sympmap = {'BCLSEI1':'ShoulderMovement',\n",
    "           'BCLSEI2':'ElbowMovement',\n",
    "           'BCLSEI3':'WristMovement',\n",
    "           'BCLSEI4':'FingersMovement',\n",
    "           'BCLSEI5':'ArmMovement',\n",
    "           'BCLSEI6':'ArmSwelling',\n",
    "           'BCLSEI7':'BreastSwelling',\n",
    "           'BCLSEI8':'Chestswelling',\n",
    "           'BCLSEI9':'Firmness',\n",
    "           'BCLSEI10':'Tightness',\n",
    "           'BCLSEI11':'Heaviness',\n",
    "           'BCLSEI12':'Toughness or thickness of the skin',\n",
    "           'BCLSEI13':'Stiffness',\n",
    "           'BCLSEI14':'Tenderness',\n",
    "           'BCLSEI15':'Hotness or Increased temperature',\n",
    "           'BCLSEI16':'Redness',\n",
    "           'BCLSEI17':'Blister',\n",
    "           'BCLSEI18':'Arm Pain/Aching/Soreness',\n",
    "           'BCLSEI19':'Numbness',\n",
    "           'BCLSEI20':'Burning',\n",
    "           'BCLSEI21':'Stabbing',\n",
    "           'BCLSEI22':'Tingling',\n",
    "           'BCLSEI23':'Hand or arm fatigue',\n",
    "           'BCLSEI24':'Hand or arm weakness',\n",
    "           'BCLSEI25':'Pocket of fluid develop (Seroma Formation)'}"
   ]
  },
  {
   "cell_type": "code",
   "execution_count": 7,
   "metadata": {},
   "outputs": [],
   "source": [
    "agemap = [23, 27, 32, 37, 42, 47, 52, 57, 62, 67, 72, 77, 82]"
   ]
  },
  {
   "cell_type": "code",
   "execution_count": 8,
   "metadata": {},
   "outputs": [],
   "source": [
    "pdholder = collections.defaultdict(list)\n",
    "for i, row in raw_data.iterrows():\n",
    "    Mobility = max(row[['BCLSEI1', 'BCLSEI2', 'BCLSEI3', 'BCLSEI4', 'BCLSEI5']])\n",
    "    ArmSwelling = row['BCLSEI6']\n",
    "    BreastSwelling = row['BCLSEI7']\n",
    "    Skin = row['BCLSEI12']\n",
    "    PAS = row['BCLSEI18']\n",
    "    FHT = max(row[['BCLSEI9', 'BCLSEI10', 'BCLSEI11']])\n",
    "    DISCOMFORT = max(row[['BCLSEI13','BCLSEI15', 'BCLSEI16','BCLSEI19','BCLSEI20','BCLSEI21','BCLSEI22','BCLSEI23','BCLSEI24']])\n",
    "    SYM_COUNT = sum(row[[f'BCLSEI{n}' for n in range(1, 25)]] > 0)\n",
    "    TIME_LAPSE = row['Dxlength']\n",
    "    Age = agemap[int(row['Age'])]\n",
    "    ChestWallSwelling = row['BCLSEI8']\n",
    "    label = row['Lymphedema']\n",
    "    \n",
    "    pdholder['Mobility'].append(Mobility)\n",
    "    pdholder['ArmSwelling'].append(ArmSwelling)\n",
    "    pdholder['BreastSwelling'].append(BreastSwelling)\n",
    "    pdholder['Skin'].append(Skin)\n",
    "    pdholder['PAS'].append(PAS)\n",
    "    pdholder['FHT'].append(FHT)\n",
    "    pdholder['DISCOMFORT'].append(DISCOMFORT)\n",
    "    pdholder['SYM_COUNT'].append(SYM_COUNT)\n",
    "    pdholder['TIME_LAPSE'].append(TIME_LAPSE)\n",
    "    pdholder['TIME_LAPSE_LOG'].append(np.log(TIME_LAPSE))\n",
    "    pdholder['Age'].append(Age)\n",
    "    pdholder['ChestWallSwelling'].append(ChestWallSwelling)\n",
    "    \n",
    "    pdholder['label'].append(label)\n",
    "     \n",
    "    \n",
    "df = pd.DataFrame(data=pdholder, columns=['Mobility','ArmSwelling','BreastSwelling','Skin','PAS','FHT','DISCOMFORT','SYM_COUNT','TIME_LAPSE','TIME_LAPSE_LOG','Age','ChestWallSwelling','label'])\n",
    "#df['TIME_LAPSE_LOG'] = np.log(df['TIME_LAPSE']) \n",
    "df.to_csv('web_data_processed.csv')"
   ]
  },
  {
   "cell_type": "code",
   "execution_count": null,
   "metadata": {},
   "outputs": [],
   "source": []
  },
  {
   "cell_type": "code",
   "execution_count": null,
   "metadata": {},
   "outputs": [],
   "source": []
  }
 ],
 "metadata": {
  "kernelspec": {
   "display_name": "Python 3",
   "language": "python",
   "name": "python3"
  },
  "language_info": {
   "codemirror_mode": {
    "name": "ipython",
    "version": 3
   },
   "file_extension": ".py",
   "mimetype": "text/x-python",
   "name": "python",
   "nbconvert_exporter": "python",
   "pygments_lexer": "ipython3",
   "version": "3.8.5"
  }
 },
 "nbformat": 4,
 "nbformat_minor": 4
}
